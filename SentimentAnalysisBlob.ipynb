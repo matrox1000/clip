{
 "cells": [
  {
   "cell_type": "code",
   "execution_count": 3,
   "id": "exclusive-penalty",
   "metadata": {},
   "outputs": [],
   "source": [
    "%%capture\n",
    "from tqdm import tqdm_notebook as tqdm\n",
    "tqdm().pandas()"
   ]
  },
  {
   "cell_type": "code",
   "execution_count": 5,
   "id": "traditional-hungary",
   "metadata": {},
   "outputs": [
    {
     "name": "stderr",
     "output_type": "stream",
     "text": [
      "<ipython-input-5-684f5c5c2bef>:16: TqdmDeprecationWarning: This function will be removed in tqdm==5.0.0\n",
      "Please use `tqdm.notebook.tqdm` instead of `tqdm.tqdm_notebook`\n",
      "  with tqdm(max_images) as pbar:\n"
     ]
    },
    {
     "data": {
      "application/vnd.jupyter.widget-view+json": {
       "model_id": "0700e131cf8e4106b6776d38c634490d",
       "version_major": 2,
       "version_minor": 0
      },
      "text/plain": [
       "HBox(children=(HTML(value=''), FloatProgress(value=1.0, bar_style='info', layout=Layout(width='20px'), max=1.0…"
      ]
     },
     "metadata": {},
     "output_type": "display_data"
    },
    {
     "name": "stdout",
     "output_type": "stream",
     "text": [
      "\n"
     ]
    }
   ],
   "source": [
    "from textblob import TextBlob\n",
    "import glob, os\n",
    "import numpy as np\n",
    "import pandas as pd\n",
    "\n",
    "textpath = 'InstaNY100K/captions/newyork/*.txt'\n",
    "max_images=100000\n",
    "sentiment=np.arange(3)\n",
    "\n",
    "\n",
    "i=0\n",
    "path_file=\"InstaNY100K/captions/sentiment2.txt\"\n",
    "#a_file=open(path_file,\"w\")\n",
    "fmt='%s'\n",
    "\n",
    "with tqdm(max_images) as pbar:\n",
    "    for file in glob.glob(textpath):\n",
    "      #print(file)\n",
    "      i+=1\n",
    "      pbar.update(1)\n",
    "      id=os.path.basename(file).split(\".\")[0]\n",
    "      f = open(file, \"r\",encoding=\"utf8\")\n",
    "      blob = TextBlob(f.read())\n",
    "      aux=np.array([id,blob.sentiment.polarity,blob.sentiment.subjectivity])\n",
    "      #np.savetxt(a_file,aux)\n",
    "      sentiment=np.vstack((sentiment,aux))\n",
    "      if i>max_images:\n",
    "        break    \n",
    "#a_file.close()\n",
    "df = pd.DataFrame(data=sentiment, columns=[\"id\",\"polarity\",\"subjectivity\"])\n",
    "df.to_csv(path_file, index=False)"
   ]
  },
  {
   "cell_type": "code",
   "execution_count": 86,
   "id": "optical-vegetation",
   "metadata": {},
   "outputs": [],
   "source": [
    "text_file = open(path_file, \"r\")\n",
    "result = text_file.readlines()\n",
    "text_file.close()"
   ]
  },
  {
   "cell_type": "code",
   "execution_count": 107,
   "id": "incorporate-start",
   "metadata": {},
   "outputs": [],
   "source": [
    "\n",
    "df = pd.DataFrame(data=sentiment, columns=[\"id\",\"polarity\",\"subjectivity\"])"
   ]
  },
  {
   "cell_type": "code",
   "execution_count": 110,
   "id": "liable-justice",
   "metadata": {},
   "outputs": [],
   "source": [
    "df.to_csv(path_file, index=False)"
   ]
  },
  {
   "cell_type": "code",
   "execution_count": 20,
   "id": "timely-classification",
   "metadata": {},
   "outputs": [
    {
     "data": {
      "text/plain": [
       "Sentiment(polarity=-0.39, subjectivity=0.78)"
      ]
     },
     "execution_count": 20,
     "metadata": {},
     "output_type": "execute_result"
    }
   ],
   "source": [
    "text = '''\n",
    "The titular threat of The Blob has always struck me as the ultimate movie\n",
    "monster: an insatiably hungry, amoeba-like mass able to penetrate\n",
    "virtually any safeguard, capable of--as a doomed doctor chillingly\n",
    "describes it--\"assimilating flesh on contact.\n",
    "Snide comparisons to gelatin be damned, it's a concept with the most\n",
    "devastating of potential consequences, not unlike the grey goo scenario\n",
    "proposed by technological theorists fearful of\n",
    "artificial intelligence run rampant.\n",
    "'''\n",
    "\n",
    "input_text = 'It is very late'\n",
    "blob = TextBlob(input_text)\n",
    "blob.tags           # [('The', 'DT'), ('titular', 'JJ'),\n",
    "                    #  ('threat', 'NN'), ('of', 'IN'), ...]\n",
    "\n",
    "blob.noun_phrases   # WordList(['titular threat', 'blob',\n",
    "                    #            'ultimate movie monster',\n",
    "                    #            'amoeba-like mass', ...])\n",
    "\n",
    "\n",
    "blob.sentiment.polarity      \n",
    "#for sentence in blob.sentences:\n",
    "#    print(sentence.sentiment.polarity)"
   ]
  }
 ],
 "metadata": {
  "kernelspec": {
   "display_name": "Python 3",
   "language": "python",
   "name": "python3"
  },
  "language_info": {
   "codemirror_mode": {
    "name": "ipython",
    "version": 3
   },
   "file_extension": ".py",
   "mimetype": "text/x-python",
   "name": "python",
   "nbconvert_exporter": "python",
   "pygments_lexer": "ipython3",
   "version": "3.8.3"
  }
 },
 "nbformat": 4,
 "nbformat_minor": 5
}
