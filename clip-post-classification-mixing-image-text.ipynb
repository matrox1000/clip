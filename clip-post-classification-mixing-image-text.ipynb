{
 "cells": [
  {
   "cell_type": "code",
   "execution_count": null,
   "metadata": {
    "colab": {
     "base_uri": "https://localhost:8080/",
     "height": 368
    },
    "id": "NIKJNcXTBj0r",
    "outputId": "cf39ba3b-cb59-45d5-b920-c8085e8b378b"
   },
   "outputs": [],
   "source": [
    "import matplotlib.pyplot as plt\n",
    "import numpy as np\n",
    "import random\n",
    "%matplotlib inline\n",
    "import glob\n",
    "import os\n",
    "import pandas as pd"
   ]
  },
  {
   "cell_type": "code",
   "execution_count": null,
   "metadata": {},
   "outputs": [],
   "source": [
    "import pandas as pd\n",
    "vali=pd.read_csv(\"image_classification_validated.csv\")"
   ]
  },
  {
   "cell_type": "code",
   "execution_count": null,
   "metadata": {
    "scrolled": true
   },
   "outputs": [],
   "source": [
    "probspath = 'InstaNY100K/clip_exit_v1_5_parte_texto_v2/*.txt'\n",
    "text_file = open(\"InstaNY100K/labelsV1_5.txt\", \"r\")\n",
    "labels = text_file.readlines()\n",
    "for i in range (0,len(labels)):\n",
    "  labels[i]=labels[i].replace('\\n','')\n",
    "\n",
    "ids=[]\n",
    "a_clas=np.arange(205)\n",
    "\n",
    "for id in vali[\"Unnamed: 0\"]:\n",
    "#for file in glob.glob(probspath):\n",
    "  #print(file)\n",
    "  id=str(id)\n",
    "  ids=np.append(ids,id)\n",
    "  a_clas=np.vstack((a_clas,np.loadtxt(\"InstaNY100K/clip_exit_v1_5/\"+id+\".txt\")))"
   ]
  },
  {
   "cell_type": "code",
   "execution_count": null,
   "metadata": {},
   "outputs": [],
   "source": [
    "print(\"InstaNY100K/clip_exit_v1_5/\"+id+\".txt\")"
   ]
  },
  {
   "cell_type": "code",
   "execution_count": null,
   "metadata": {},
   "outputs": [],
   "source": [
    "a_clas.size"
   ]
  },
  {
   "cell_type": "code",
   "execution_count": null,
   "metadata": {},
   "outputs": [],
   "source": [
    "ind=np.argmax(a_clas,axis=1)\n",
    "prob=np.max(a_clas,axis=1)"
   ]
  },
  {
   "cell_type": "code",
   "execution_count": null,
   "metadata": {},
   "outputs": [],
   "source": [
    "ind= np.delete(ind, 0)\n",
    "prob= np.delete(prob, 0)"
   ]
  },
  {
   "cell_type": "code",
   "execution_count": null,
   "metadata": {},
   "outputs": [],
   "source": []
  },
  {
   "cell_type": "code",
   "execution_count": null,
   "metadata": {},
   "outputs": [],
   "source": []
  },
  {
   "cell_type": "code",
   "execution_count": null,
   "metadata": {},
   "outputs": [],
   "source": [
    "%%capture\n",
    "from tqdm import tqdm_notebook as tqdm\n",
    "tqdm().pandas()"
   ]
  },
  {
   "cell_type": "code",
   "execution_count": null,
   "metadata": {},
   "outputs": [],
   "source": [
    "%pylab inline\n",
    "import matplotlib.pyplot as plt\n",
    "import matplotlib.image as mpimg\n",
    "cont=0\n",
    "total=100\n",
    "\n",
    "with tqdm(total) as pbar:\n",
    "    for ex in range(0,total):\n",
    "        pbar.update(1)\n",
    "        if (prob[ex]>0.8):\n",
    "            cont +=1\n",
    "            img = mpimg.imread(\"InstaNY100K/img_resized/newyork/\"+ids[ex]+\".jpg\")\n",
    "            imgplot = plt.imshow(img)\n",
    "            plt.show()\n",
    "            print (labels[ind[ex]])\n",
    "            print (ids[ex])\n",
    "print(\"Clasificadas \",cont,\" imagenes de \",total)"
   ]
  },
  {
   "cell_type": "code",
   "execution_count": null,
   "metadata": {},
   "outputs": [],
   "source": [
    "import os\n",
    "\n",
    "print(os.path.basename(\"InstaNY100K/img_resized/newyork/1491154771678951085.jpg\").split(\".\")[0])"
   ]
  },
  {
   "cell_type": "code",
   "execution_count": null,
   "metadata": {},
   "outputs": [],
   "source": [
    "import pandas as pd\n",
    "tabla_probs = pd.DataFrame(data=np.transpose(a_clas[1:,:]),index=labels,  columns=ids)"
   ]
  },
  {
   "cell_type": "code",
   "execution_count": null,
   "metadata": {},
   "outputs": [],
   "source": [
    "#pruebas\n",
    "#np.vstack()\n",
    "#tab = pd.crosstab(index=ind[1:],columns=\"frecuencia\")\n",
    "np.transpose(np.array(np.unique(ind[1:], return_counts=True)))\n",
    "np.vstack((labels, np.array(np.unique(ind[1:], return_counts=True))))"
   ]
  },
  {
   "cell_type": "code",
   "execution_count": null,
   "metadata": {},
   "outputs": [],
   "source": [
    "\n",
    "# Obtain array of square of each element in x\n",
    "laberer = lambda t: labels[t]\n",
    "ind_labels = np.array([laberer(xi) for xi in ind])\n",
    "print(ind_labels)"
   ]
  },
  {
   "cell_type": "code",
   "execution_count": null,
   "metadata": {},
   "outputs": [],
   "source": [
    "array_frecuencias_1000 = np.transpose(np.array(np.unique(ind_labels, return_counts=True)))\n",
    "tabla_probs = pd.DataFrame(data=np.transpose(np.vstack([ind_labels,prob])), index=ids, columns=[\"label\",\"prob\"])\n",
    "\n"
   ]
  },
  {
   "cell_type": "code",
   "execution_count": null,
   "metadata": {},
   "outputs": [],
   "source": [
    "tabla_probs[prob>0.0].groupby(['label']).count().sort_values(by=['prob'], ascending=False)[0:10]\n",
    "tt=tabla_probs[prob>0.0].groupby(['label']).count().sort_values(by=['prob'], ascending=False)[0:10]"
   ]
  },
  {
   "cell_type": "code",
   "execution_count": null,
   "metadata": {},
   "outputs": [],
   "source": [
    "tabla_probs.to_csv(\"salida_text_clip.csv\")"
   ]
  },
  {
   "cell_type": "code",
   "execution_count": null,
   "metadata": {},
   "outputs": [],
   "source": [
    "##### tt.index.to_list()\n",
    "tabla_imagenes_etiquetas_mas_frecuentes=tabla_probs[tabla_probs[\"label\"].isin(tt.index.to_list())].sort_values(by=['label'], ascending=True)"
   ]
  },
  {
   "cell_type": "code",
   "execution_count": null,
   "metadata": {},
   "outputs": [],
   "source": [
    "etiquetasMasfrecuentes=tt.index.to_list()"
   ]
  },
  {
   "cell_type": "code",
   "execution_count": null,
   "metadata": {},
   "outputs": [],
   "source": [
    "imagenes_con_etiquetas_mas_frecuentes=tabla_imagenes_etiquetas_mas_frecuentes.index.to_list()"
   ]
  },
  {
   "cell_type": "code",
   "execution_count": null,
   "metadata": {},
   "outputs": [],
   "source": [
    "from pigeon import annotate\n",
    "from IPython.display import display, Image\n",
    "\n"
   ]
  },
  {
   "cell_type": "code",
   "execution_count": null,
   "metadata": {},
   "outputs": [],
   "source": [
    "#etiquetasMasfrecuentes2 = list(map(lambda x: x[2:9], etiquetasMasfrecuentes))"
   ]
  },
  {
   "cell_type": "code",
   "execution_count": null,
   "metadata": {},
   "outputs": [],
   "source": [
    "annotations = annotate(\n",
    "  imagenes_con_etiquetas_mas_frecuentes,\n",
    "  max_options_dropdown=20,\n",
    "  options= etiquetasMasfrecuentes,\n",
    "  display_fn=lambda filename: display(Image(\"InstaNY100K/img_resized/newyork/\"+filename+\".jpg\"))\n",
    ")"
   ]
  },
  {
   "cell_type": "code",
   "execution_count": null,
   "metadata": {},
   "outputs": [],
   "source": []
  },
  {
   "cell_type": "code",
   "execution_count": null,
   "metadata": {},
   "outputs": [],
   "source": [
    "#imagen 1490075277483641751\n",
    "probspathv1 = 'InstaNY100K/clip_exit/1490075277483641751.txt'\n",
    "probspathv1_5 = 'InstaNY100K/clip_exit_v1_5/1490075277483641751.txt'\n",
    "\n",
    "probv1=np.loadtxt(probspathv1)\n",
    "probv1_5=np.loadtxt(probspathv1_5)\n",
    "\n",
    "tabla_probsv1 = pd.DataFrame(data=np.vstack([probv1,probv1_5]),  columns=labels)\n",
    "\n",
    "\n",
    "\n",
    "\n"
   ]
  },
  {
   "cell_type": "code",
   "execution_count": null,
   "metadata": {},
   "outputs": [],
   "source": [
    "tabla_probsv1[\"a skyscraper\"]"
   ]
  },
  {
   "cell_type": "code",
   "execution_count": null,
   "metadata": {},
   "outputs": [],
   "source": [
    ">>> dtype = [('name', 'S10'), ('height', float), ('age', int)]\n",
    ">>> values = [('Arthur', 1.8, 41), ('Lancelot', 1.9, 38),\n",
    "...           ('Galahad', 1.7, 38)]\n",
    ">>> a = np.array(values, dtype=dtype)       # create a structured array\n",
    ">>> np.sort(a, order='height')                        \n",
    "array([('Galahad', 1.7, 38), ('Arthur', 1.8, 41),\n",
    "       ('Lancelot', 1.8999999999999999, 38)],\n",
    "      dtype=[('name', '|S10'), ('height', '<f8'), ('age', '<i4')])"
   ]
  },
  {
   "cell_type": "code",
   "execution_count": null,
   "metadata": {
    "colab": {
     "base_uri": "https://localhost:8080/",
     "height": 664
    },
    "id": "ofIsy8F78qdV",
    "outputId": "f7583587-c42a-4718-bba2-85a0b189eef8"
   },
   "outputs": [],
   "source": [
    "\n",
    "#image_size = 64\n",
    "#DATA_DIR = '/content/drive/MyDrive/Doctorado/InstaNY100K/img_resized/newyork'\n",
    "#X_train = np.load(DATA_DIR)\n",
    "#print(f\"Shape of training data: {X_train.shape}\")\n",
    "#print(f\"Data type: {type(X_train)}\")\n",
    "\n",
    "from pydrive.auth import GoogleAuth\n",
    "from pydrive.drive import GoogleDrive\n",
    "from google.colab import auth\n",
    "from oauth2client.client import GoogleCredentials\n",
    "\n",
    "auth.authenticate_user()\n",
    "gauth = GoogleAuth()\n",
    "gauth.credentials = GoogleCredentials.get_application_default()\n",
    "drive = GoogleDrive(gauth)\n",
    "\n",
    "\n",
    "Imagespath = '/content/drive/MyDrive/Doctorado/InstaNY100K/img_resized/newyork'\n",
    "dataset = {'predict' : ImageFolder(Imagespath)}\n",
    "dataloader = {'predict': torch.utils.data.DataLoader(dataset['predict'], batch_size = 1, shuffle=False, num_workers=4)}\n",
    "\n",
    "outputs = list()\n",
    "since = time.time()\n",
    "for inputs, labels in dataloader['predict']:\n",
    "    inputs = inputs.to(device)\n",
    "    output = model(inputs)\n",
    "    output = output.to(device)\n",
    "    index = output.data.numpy().argmax()\n",
    "    print (index)"
   ]
  },
  {
   "cell_type": "code",
   "execution_count": null,
   "metadata": {
    "id": "91bwfHDjBl_2"
   },
   "outputs": [],
   "source": [
    "from pydrive.auth import GoogleAuth\n",
    "from pydrive.drive import GoogleDrive\n",
    "from google.colab import auth\n",
    "from oauth2client.client import GoogleCredentials\n",
    "import glob\n",
    "\n",
    "auth.authenticate_user()\n",
    "gauth = GoogleAuth()\n",
    "gauth.credentials = GoogleCredentials.get_application_default()\n",
    "drive = GoogleDrive(gauth)\n",
    "\n",
    "\n",
    "imagespath = '/content/drive/MyDrive/Doctorado/InstaNY100K/img_resized/newyork/*.jpg'\n",
    "device = \"cuda\" if torch.cuda.is_available() else \"cpu\"\n",
    "model, preprocess = clip.load(\"ViT-B/32\", device)\n",
    "text_file = open(\"/content/drive/MyDrive/Doctorado/InstaNY100K/labels.txt\", \"r\")\n",
    "labels = text_file.readlines()\n",
    "for i in range (0,len(labels)):\n",
    "  labels[i]=labels[i].replace('\\n','')\n",
    "text = clip.tokenize(labels).to(device)\n",
    "\n",
    "\n",
    "#drive.ListFile({'/content/drive/MyDrive/Doctorado/InstaNY100K/img_resized/newyork': 'trashed=true', 'maxResults': 10}):\n",
    "#listed = drive.Doctorado.InstaNY100K.img_resized.newyork.GetList()\n",
    "for file in glob.glob(imagespath):\n",
    "  print(file)\n",
    "  image = preprocess(Image.open(file)).unsqueeze(0).to(device)\n",
    "  \n",
    "  with torch.no_grad():\n",
    "      image_features = model.encode_image(image)\n",
    "      text_features = model.encode_text(text)\n",
    "      \n",
    "      logits_per_image, logits_per_text = model(image, text)\n",
    "      probs = logits_per_image.softmax(dim=-1).cpu().numpy()\n",
    "\n",
    "  print(\"Label probs:\", probs)  # prints: [[0.9927937  0.00421068 0.00299572]]\n",
    "\n"
   ]
  },
  {
   "cell_type": "code",
   "execution_count": null,
   "metadata": {
    "id": "WvH5rebkDM24"
   },
   "outputs": [],
   "source": [
    "print(\"Clasificadas \",cont,\" imagenes de \",total)\n",
    "print (ex)"
   ]
  },
  {
   "cell_type": "code",
   "execution_count": null,
   "metadata": {
    "colab": {
     "base_uri": "https://localhost:8080/"
    },
    "id": "bucZvseXtdvZ",
    "outputId": "7e406c67-b983-491b-9f8e-ecd1749a7910",
    "scrolled": true
   },
   "outputs": [],
   "source": [
    "cont=0\n",
    "total=300\n",
    "\n",
    "with tqdm(total) as pbar:\n",
    "    for ex in range(0,total):\n",
    "        pbar.update(1)\n",
    "        if (prob[ex]<0.5):\n",
    "            cont +=1\n",
    "            img = mpimg.imread(\"InstaNY100K/img_resized/newyork/\"+ids[ex]+\".jpg\")\n",
    "            imgplot = plt.imshow(img)\n",
    "            plt.show()\n",
    "            print (labels[ind[ex]])\n",
    "            print (ids[ex])\n",
    "            print(prob[ex])\n",
    "print(\"Clasificadas \",cont,\" imagenes de \",total)"
   ]
  },
  {
   "cell_type": "markdown",
   "metadata": {},
   "source": [
    "## Mixing text and image\n"
   ]
  },
  {
   "cell_type": "code",
   "execution_count": null,
   "metadata": {},
   "outputs": [],
   "source": [
    "tabla_probs"
   ]
  },
  {
   "cell_type": "code",
   "execution_count": null,
   "metadata": {},
   "outputs": [],
   "source": [
    "sentiment_path_file=\"InstaNY100K/captions/sentiment2.txt\"\n",
    "tabla_sentiment=pd.read_csv(sentiment_path_file)\n"
   ]
  },
  {
   "cell_type": "code",
   "execution_count": null,
   "metadata": {},
   "outputs": [],
   "source": [
    "tabla_sentiment = tabla_sentiment.drop([0])"
   ]
  },
  {
   "cell_type": "code",
   "execution_count": null,
   "metadata": {},
   "outputs": [],
   "source": [
    "tabla_probs2 = pd.DataFrame(data=np.transpose(np.vstack([ids,ind_labels,prob])), columns=[\"id\",\"label\",\"prob\"])\n"
   ]
  },
  {
   "cell_type": "code",
   "execution_count": null,
   "metadata": {},
   "outputs": [],
   "source": [
    "tabla_probs2"
   ]
  },
  {
   "cell_type": "code",
   "execution_count": null,
   "metadata": {},
   "outputs": [],
   "source": [
    "tabla_probs2"
   ]
  },
  {
   "cell_type": "code",
   "execution_count": null,
   "metadata": {},
   "outputs": [],
   "source": [
    "tabla = pd.merge(tabla_probs2,tabla_sentiment.astype({'id': 'str'}), how= \"inner\", on=\"id\")"
   ]
  },
  {
   "cell_type": "code",
   "execution_count": null,
   "metadata": {},
   "outputs": [],
   "source": [
    "type(tabla_sentiment[\"id\"][0])"
   ]
  },
  {
   "cell_type": "code",
   "execution_count": null,
   "metadata": {},
   "outputs": [],
   "source": [
    "tabla_sentiment.astype({'id': 'str'}).dtypes"
   ]
  },
  {
   "cell_type": "code",
   "execution_count": null,
   "metadata": {},
   "outputs": [],
   "source": [
    "tabla"
   ]
  },
  {
   "cell_type": "code",
   "execution_count": null,
   "metadata": {},
   "outputs": [],
   "source": [
    "tabla_medias=tabla[prob>0.4].groupby(['label']).agg({'id':'count','polarity':'mean','subjectivity':'mean'}).sort_values(by=['id'], ascending=False)\n"
   ]
  },
  {
   "cell_type": "code",
   "execution_count": null,
   "metadata": {},
   "outputs": [],
   "source": [
    "tablamayor100=tabla_medias.iloc[:68]"
   ]
  },
  {
   "cell_type": "code",
   "execution_count": null,
   "metadata": {},
   "outputs": [],
   "source": [
    "tablamayor100.sort_values(by=['polarity'], ascending=False)"
   ]
  },
  {
   "cell_type": "code",
   "execution_count": null,
   "metadata": {},
   "outputs": [],
   "source": [
    "tablamayor100"
   ]
  },
  {
   "cell_type": "code",
   "execution_count": null,
   "metadata": {},
   "outputs": [],
   "source": [
    "tabla_probs"
   ]
  },
  {
   "cell_type": "code",
   "execution_count": null,
   "metadata": {},
   "outputs": [],
   "source": [
    "tabla_probs_total_images2 = tabla_probs.transpose()"
   ]
  },
  {
   "cell_type": "code",
   "execution_count": null,
   "metadata": {},
   "outputs": [],
   "source": [
    "tabla_probs_total_texto.to_csv(\"tabla_probs_total_texto.csv\")"
   ]
  },
  {
   "cell_type": "code",
   "execution_count": null,
   "metadata": {},
   "outputs": [],
   "source": [
    "tabla_probs_total_images2.to_csv(\"tabla_probs_total_images2.csv\")"
   ]
  },
  {
   "cell_type": "code",
   "execution_count": null,
   "metadata": {},
   "outputs": [],
   "source": [
    "tabla_probs_total_images = pd.read_csv(\"tabla_probs_total_images2.csv\",index_col=0)"
   ]
  },
  {
   "cell_type": "code",
   "execution_count": null,
   "metadata": {},
   "outputs": [],
   "source": [
    "tabla_probs_total_texto = pd.read_csv(\"tabla_probs_total_texto.csv\",index_col=0)"
   ]
  },
  {
   "cell_type": "code",
   "execution_count": null,
   "metadata": {},
   "outputs": [],
   "source": [
    "tabla_probs_total_images= tabla_probs_total_images.sort_index()"
   ]
  },
  {
   "cell_type": "code",
   "execution_count": null,
   "metadata": {},
   "outputs": [],
   "source": [
    "tabla_probs_total_texto= tabla_probs_total_texto.sort_index()"
   ]
  },
  {
   "cell_type": "code",
   "execution_count": null,
   "metadata": {},
   "outputs": [],
   "source": [
    "(tabla_probs_total_images*0.8 + tabla_probs_total_texto*0.2).to_csv(\"experimento1.csv\")"
   ]
  },
  {
   "cell_type": "code",
   "execution_count": null,
   "metadata": {},
   "outputs": [],
   "source": [
    "expe2=(tabla_probs_total_images*0.9 + tabla_probs_total_texto*0.1)"
   ]
  },
  {
   "cell_type": "code",
   "execution_count": null,
   "metadata": {},
   "outputs": [],
   "source": [
    "expe1"
   ]
  },
  {
   "cell_type": "code",
   "execution_count": null,
   "metadata": {},
   "outputs": [],
   "source": [
    "expe1.max(axis=1)\n",
    "#aux=expe1.apply(lambda x: expe1.columns[x.argmax()], axis = 1)\n"
   ]
  },
  {
   "cell_type": "code",
   "execution_count": null,
   "metadata": {},
   "outputs": [],
   "source": [
    "vali=pd.read_csv(\"validacion3.csv\",index_col=0)"
   ]
  },
  {
   "cell_type": "code",
   "execution_count": null,
   "metadata": {},
   "outputs": [],
   "source": [
    "vali[\"label_p2\"]=expe2.apply(lambda x: expe2.columns[x.argmax()], axis = 1)"
   ]
  },
  {
   "cell_type": "code",
   "execution_count": null,
   "metadata": {},
   "outputs": [],
   "source": [
    "vali[\"prob_p2\"]=expe2.max(axis=1)"
   ]
  },
  {
   "cell_type": "code",
   "execution_count": null,
   "metadata": {},
   "outputs": [],
   "source": [
    "vali[vali[\"label\"]!=vali[\"label_p2\"]]"
   ]
  },
  {
   "cell_type": "code",
   "execution_count": null,
   "metadata": {},
   "outputs": [],
   "source": [
    "vali.to_csv(\"experimento1_2.csv\")"
   ]
  },
  {
   "cell_type": "code",
   "execution_count": null,
   "metadata": {},
   "outputs": [],
   "source": [
    "vali2=pd.read_csv(\"experimento1_2.csv\",index_col=0)"
   ]
  },
  {
   "cell_type": "code",
   "execution_count": null,
   "metadata": {},
   "outputs": [],
   "source": [
    "aux=vali2.query(\"(label!=label_p2) & prob_p2>0.6 & ok==0\")"
   ]
  },
  {
   "cell_type": "code",
   "execution_count": null,
   "metadata": {},
   "outputs": [],
   "source": [
    "vali2"
   ]
  },
  {
   "cell_type": "code",
   "execution_count": null,
   "metadata": {},
   "outputs": [],
   "source": [
    "for i in range(0,11):\n",
    "    #print(i/10)\n",
    "    print(vali2.query(\"(label!=label_p2) & prob_p2>\"+str(i/10)+\" & ok==0\").count()[0])"
   ]
  },
  {
   "cell_type": "code",
   "execution_count": null,
   "metadata": {},
   "outputs": [],
   "source": [
    "vali3=pd.read_csv(\"etiquetado-mix-review.csv\",index_col=0)"
   ]
  },
  {
   "cell_type": "code",
   "execution_count": null,
   "metadata": {},
   "outputs": [],
   "source": [
    "vali3[vali3[\"prob\"]>0.1][vali3[\"ok\"]==1].count()"
   ]
  },
  {
   "cell_type": "code",
   "execution_count": null,
   "metadata": {},
   "outputs": [],
   "source": [
    "vali2"
   ]
  },
  {
   "cell_type": "code",
   "execution_count": null,
   "metadata": {},
   "outputs": [],
   "source": [
    "tabla_mix=pd.concat([vali2,vali3], axis=1)"
   ]
  },
  {
   "cell_type": "code",
   "execution_count": null,
   "metadata": {},
   "outputs": [],
   "source": [
    "tabla_mix"
   ]
  },
  {
   "cell_type": "code",
   "execution_count": null,
   "metadata": {},
   "outputs": [],
   "source": [
    "tabla_mix[tabla_mix[\"prob_p2\"]>0.6][tabla_mix[\"ok\"]==1]"
   ]
  },
  {
   "cell_type": "code",
   "execution_count": null,
   "metadata": {},
   "outputs": [],
   "source": [
    "#calcular las que empeora\n",
    "tabla_mix[tabla_mix[\"prob\"]>0.6][tabla_mix[\"ok\"]==1][tabla_mix[\"label\"]!=tabla_mix[\"label_p\"]].count()"
   ]
  },
  {
   "cell_type": "code",
   "execution_count": null,
   "metadata": {},
   "outputs": [],
   "source": [
    "#calcular las que mejor\n",
    "tabla_mix[tabla_mix[\"prob\"]<=0.6][tabla_mix[\"prob_p\"]>0.5][tabla_mix[\"ok\"]==0][tabla_mix[\"ok_mix\"]==1.0].count()"
   ]
  },
  {
   "cell_type": "code",
   "execution_count": null,
   "metadata": {},
   "outputs": [],
   "source": [
    "for i in range(0,11):\n",
    "    #print(i/10)\n",
    "    print(tabla_mix.query(\"(label!=label_p) & prob_p>\"+str(i/10)+\" & ok==0 & ok_mix==1.0\").count()[0])"
   ]
  },
  {
   "cell_type": "code",
   "execution_count": null,
   "metadata": {},
   "outputs": [],
   "source": [
    "for i in range(0,11):\n",
    "    #print(i/10)\n",
    "    print(tabla_mix.query(\"(label==label_p) & prob_p>\"+str(i/10)+\" & ok==1\").count()[0])"
   ]
  },
  {
   "cell_type": "code",
   "execution_count": null,
   "metadata": {},
   "outputs": [],
   "source": [
    "for i in range(0,11):\n",
    "    #print(i/10)\n",
    "    print(tabla_mix.query(\"prob_p>\"+str(i/10)).count()[0])"
   ]
  },
  {
   "cell_type": "code",
   "execution_count": null,
   "metadata": {},
   "outputs": [],
   "source": [
    "for i in range(0,11):\n",
    "    #print(i/10)\n",
    "    print(tabla_mix.query(\"prob<0.6 & prob_p>\"+str(i/10)+\" & ok==0 & ok_mix==1.0\").count()[0])"
   ]
  },
  {
   "cell_type": "code",
   "execution_count": null,
   "metadata": {},
   "outputs": [],
   "source": [
    "for i in range(0,11):\n",
    "    #print(i/10)\n",
    "    print(tabla_mix.query(\"prob>0.6 & prob_p>\"+str(i/10)).count()[0])"
   ]
  },
  {
   "cell_type": "code",
   "execution_count": null,
   "metadata": {},
   "outputs": [],
   "source": []
  }
 ],
 "metadata": {
  "colab": {
   "collapsed_sections": [],
   "name": "clip.ipynb",
   "provenance": []
  },
  "kernelspec": {
   "display_name": "Python 3",
   "language": "python",
   "name": "python3"
  },
  "language_info": {
   "codemirror_mode": {
    "name": "ipython",
    "version": 3
   },
   "file_extension": ".py",
   "mimetype": "text/x-python",
   "name": "python",
   "nbconvert_exporter": "python",
   "pygments_lexer": "ipython3",
   "version": "3.8.3"
  }
 },
 "nbformat": 4,
 "nbformat_minor": 1
}
